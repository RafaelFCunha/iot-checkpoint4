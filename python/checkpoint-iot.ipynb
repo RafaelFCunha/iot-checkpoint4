#importando biblioteca
import paho.mqtt.client as paho

#função para inscrever-se tópico
def on_subscribe(client, userdata, mid, granted_qos):
    print("Subscribed: "+str(mid)+" "+str(granted_qos))

#função para receber msg
def on_message(client, userdata, msg):
    print("topico: " + msg.topic+"  "+str(msg.payload) + "graus")    

client = paho.Client()
client.on_subscribe = on_subscribe
client.on_message = on_message
client.connect("broker.mqttdashboard.com", 1883)
client.subscribe("rafaelFernandesCunha/fiap/teste", qos=2)

client.loop_forever()
