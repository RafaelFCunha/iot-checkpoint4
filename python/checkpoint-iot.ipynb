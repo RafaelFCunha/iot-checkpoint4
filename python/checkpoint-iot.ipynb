{
 "cells": [
  {
   "cell_type": "code",
   "execution_count": null,
   "metadata": {},
   "outputs": [
    {
     "name": "stdout",
     "output_type": "stream",
     "text": [
      "Subscribed: 1 (2,)\n",
      "topico: rafaelFernandesCunha/fiap/teste  b'15.25'graus\n",
      "topico: rafaelFernandesCunha/fiap/teste  b'15.25'graus\n",
      "topico: rafaelFernandesCunha/fiap/teste  b'15.25'graus\n"
     ]
    }
   ],
   "source": [
    "import paho.mqtt.client as paho\n",
    "\n",
    "def on_subscribe(client, userdata, mid, granted_qos):\n",
    "    print(\"Subscribed: \"+str(mid)+\" \"+str(granted_qos))\n",
    "\n",
    "def on_message(client, userdata, msg):\n",
    "    print(\"topico: \" + msg.topic+\"  \"+str(msg.payload) + \"graus\")    \n",
    "\n",
    "client = paho.Client()\n",
    "client.on_subscribe = on_subscribe\n",
    "client.on_message = on_message\n",
    "client.connect(\"broker.mqttdashboard.com\", 1883)\n",
    "client.subscribe(\"rafaelFernandesCunha/fiap/teste\", qos=2)\n",
    "\n",
    "client.loop_forever()"
   ]
  },
  {
   "cell_type": "code",
   "execution_count": 15,
   "metadata": {},
   "outputs": [],
   "source": [
    "# client.on_message = on_message"
   ]
  },
  {
   "cell_type": "code",
   "execution_count": 10,
   "metadata": {},
   "outputs": [],
   "source": [
    "# client.on_message"
   ]
  },
  {
   "cell_type": "code",
   "execution_count": null,
   "metadata": {},
   "outputs": [],
   "source": []
  }
 ],
 "metadata": {
  "kernelspec": {
   "display_name": "Python 3",
   "language": "python",
   "name": "python3"
  },
  "language_info": {
   "codemirror_mode": {
    "name": "ipython",
    "version": 3
   },
   "file_extension": ".py",
   "mimetype": "text/x-python",
   "name": "python",
   "nbconvert_exporter": "python",
   "pygments_lexer": "ipython3",
   "version": "3.8.5"
  }
 },
 "nbformat": 4,
 "nbformat_minor": 4
}
